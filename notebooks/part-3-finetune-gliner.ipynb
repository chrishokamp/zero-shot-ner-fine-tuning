{
 "cells": [
  {
   "cell_type": "code",
   "execution_count": null,
   "metadata": {},
   "outputs": [],
   "source": [
    "# notebook copied from here:\n",
    "# https://github.com/urchade/GLiNER/blob/main/examples/finetune.ipynb\n",
    "\n",
    "import json\n",
    "from gliner import GLiNER\n",
    "\n",
    "import torch\n",
    "from tqdm import tqdm\n",
    "from transformers import get_cosine_schedule_with_warmup\n",
    "import os\n",
    "\n",
    "# this function loads jsonl data\n",
    "def read_jsonl(file_path):\n",
    "    with open(file_path, \"r\") as f:\n",
    "        data = [json.loads(line) for line in f]\n",
    "    return data"
   ]
  },
  {
   "cell_type": "markdown",
   "metadata": {},
   "source": [
    "### Load NER Dataset for Fine-Tuning\n",
    "\n",
    "**TODO**: you need to load your own NER dataset here"
   ]
  },
  {
   "cell_type": "code",
   "execution_count": 8,
   "metadata": {},
   "outputs": [
    {
     "data": {
      "text/plain": [
       "(976, 24)"
      ]
     },
     "execution_count": 8,
     "metadata": {},
     "output_type": "execute_result"
    }
   ],
   "source": [
    "train_path = 'data/argilla_dataset_train.jsonl'\n",
    "eval_path = 'data/argilla_dataset_eval.jsonl'\n",
    "\n",
    "train_data = read_jsonl(train_path)\n",
    "eval_data = read_jsonl(eval_path)\n",
    "len(train_data), len(eval_data)"
   ]
  },
  {
   "cell_type": "code",
   "execution_count": null,
   "metadata": {},
   "outputs": [
    {
     "name": "stdout",
     "output_type": "stream",
     "text": [
      "{'tokenized_text': ['When', 'you', 'would', 'like', 'the', 'property', 'photographed', '.', 'The', 'property', 'size', ',', 'home', 'size', ',', 'address', 'and', 'MLS', '#', 'if', 'you', 'have', 'it', '.'], 'ner': [[77, 84, 'address']]}\n",
      "\n",
      "{'tokenized_text': ['Milosh', 'Roofing', 'Pittswood', 'is', 'your', 'ideal', 'partner', 'for', 'roof', 'maintenance', 'in', 'Pittswood', '.'], 'ner': [[0, 24, 'organization']]}\n"
     ]
    }
   ],
   "source": [
    "# checking for gliner format\n",
    "# {'tokenized_text' [], 'ner': [ [start_token_i, end_token_i, label], ...], ...}\n",
    "print(f\"{train_data[0]}\\n\\n{eval_data[3]}\")"
   ]
  },
  {
   "cell_type": "markdown",
   "metadata": {},
   "source": [
    "### Load Pre-Trained Model"
   ]
  },
  {
   "cell_type": "code",
   "execution_count": 34,
   "metadata": {},
   "outputs": [
    {
     "data": {
      "application/vnd.jupyter.widget-view+json": {
       "model_id": "eff0314920104f3ea975f7734d08cefa",
       "version_major": 2,
       "version_minor": 0
      },
      "text/plain": [
       "Fetching 5 files:   0%|          | 0/5 [00:00<?, ?it/s]"
      ]
     },
     "metadata": {},
     "output_type": "display_data"
    },
    {
     "name": "stderr",
     "output_type": "stream",
     "text": [
      "/Users/egemenipek/miniconda3/envs/zero-shot-ner-lab/lib/python3.10/site-packages/transformers/convert_slow_tokenizer.py:561: UserWarning: The sentencepiece tokenizer that you are converting to a fast tokenizer uses the byte fallback option which is not implemented in the fast tokenizers. In practice this means that the fast version of the tokenizer can produce unknown tokens whereas the sentencepiece version would have converted these unknown tokens into a sequence of byte tokens matching the original piece of text.\n",
      "  warnings.warn(\n"
     ]
    }
   ],
   "source": [
    "# available models: https://huggingface.co/urchade\n",
    "\n",
    "model = GLiNER.from_pretrained(\"urchade/gliner_largev2\")"
   ]
  },
  {
   "cell_type": "markdown",
   "metadata": {},
   "source": [
    "### Fine-Tuning Code"
   ]
  },
  {
   "cell_type": "code",
   "execution_count": 35,
   "metadata": {},
   "outputs": [],
   "source": [
    "from types import SimpleNamespace\n",
    "\n",
    "# Define the hyperparameters in a config variable\n",
    "config = SimpleNamespace(\n",
    "    # num_steps=10000, # number of training iteration\n",
    "    num_steps=20, # low number of steps for testing NOTE: MODIFY THIS\n",
    "    train_batch_size=2, \n",
    "    eval_every=2, # evaluation/saving steps\n",
    "    save_directory=\"logs\", # where to save checkpoints\n",
    "    warmup_ratio=0.1, # warmup steps\n",
    "    device='cpu',\n",
    "    lr_encoder=1e-5, # learning rate for the backbone\n",
    "    lr_others=5e-5, # learning rate for other parameters\n",
    "    freeze_token_rep=False, # freeze of not the backbone\n",
    "    \n",
    "    # Parameters for set_sampling_params\n",
    "    max_types=25, # maximum number of entity types during training\n",
    "    shuffle_types=True, # if shuffle or not entity types\n",
    "    random_drop=True, # randomly drop entity types\n",
    "    max_neg_type_ratio=1, # ratio of positive/negative types, 1 mean 50%/50%, 2 mean 33%/66%, 3 mean 25%/75% ...\n",
    "    max_len=384 # maximum sentence length\n",
    ")"
   ]
  },
  {
   "cell_type": "code",
   "execution_count": 40,
   "metadata": {},
   "outputs": [
    {
     "ename": "ImportError",
     "evalue": "cannot import name 'Trainer' from 'gliner' (/Users/egemenipek/miniconda3/envs/zero-shot-ner-lab/lib/python3.10/site-packages/gliner/__init__.py)",
     "output_type": "error",
     "traceback": [
      "\u001b[0;31m---------------------------------------------------------------------------\u001b[0m",
      "\u001b[0;31mImportError\u001b[0m                               Traceback (most recent call last)",
      "Cell \u001b[0;32mIn[40], line 1\u001b[0m\n\u001b[0;32m----> 1\u001b[0m \u001b[38;5;28;01mfrom\u001b[39;00m\u001b[38;5;250m \u001b[39m\u001b[38;5;21;01mgliner\u001b[39;00m\u001b[38;5;250m \u001b[39m\u001b[38;5;28;01mimport\u001b[39;00m Trainer\n",
      "\u001b[0;31mImportError\u001b[0m: cannot import name 'Trainer' from 'gliner' (/Users/egemenipek/miniconda3/envs/zero-shot-ner-lab/lib/python3.10/site-packages/gliner/__init__.py)"
     ]
    }
   ],
   "source": [
    "from gliner import Trainer"
   ]
  },
  {
   "cell_type": "code",
   "execution_count": 36,
   "metadata": {},
   "outputs": [],
   "source": [
    "import numpy as np\n",
    "import pandas as pd"
   ]
  },
  {
   "cell_type": "code",
   "execution_count": null,
   "metadata": {},
   "outputs": [],
   "source": [
    "def train(model, config, train_data, eval_data=None):\n",
    "    model = model.to(config.device)\n",
    "\n",
    "    # Set sampling parameters from config\n",
    "    model.set_sampling_params(\n",
    "        max_types=config.max_types, \n",
    "        shuffle_types=config.shuffle_types, \n",
    "        random_drop=config.random_drop, \n",
    "        max_neg_type_ratio=config.max_neg_type_ratio, \n",
    "        max_len=config.max_len\n",
    "    )\n",
    "    \n",
    "    model.train()\n",
    "\n",
    "    # Initialize data loaders\n",
    "    train_loader = model.create_dataloader(train_data, batch_size=config.train_batch_size, shuffle=True)\n",
    "\n",
    "    # Optimizer\n",
    "    optimizer = model.get_optimizer(config.lr_encoder, config.lr_others, config.freeze_token_rep)\n",
    "\n",
    "    pbar = tqdm(range(config.num_steps))\n",
    "\n",
    "    if config.warmup_ratio < 1:\n",
    "        num_warmup_steps = int(config.num_steps * config.warmup_ratio)\n",
    "    else:\n",
    "        num_warmup_steps = int(config.warmup_ratio)\n",
    "\n",
    "    scheduler = get_cosine_schedule_with_warmup(\n",
    "        optimizer,\n",
    "        num_warmup_steps=num_warmup_steps,\n",
    "        num_training_steps=config.num_steps\n",
    "    )\n",
    "\n",
    "    iter_train_loader = iter(train_loader)\n",
    "\n",
    "\n",
    "    all_losses = []\n",
    "    for step in pbar:\n",
    "        try:\n",
    "            x = next(iter_train_loader)\n",
    "        except StopIteration:\n",
    "            iter_train_loader = iter(train_loader)\n",
    "            x = next(iter_train_loader)\n",
    "\n",
    "        for k, v in x.items():\n",
    "            if isinstance(v, torch.Tensor):\n",
    "                x[k] = v.to(config.device)\n",
    "\n",
    "        loss = model(x)  # Forward pass\n",
    "            \n",
    "        # Check if loss is nan\n",
    "        if torch.isnan(loss):\n",
    "            continue\n",
    "\n",
    "        loss.backward()  # Compute gradients\n",
    "        optimizer.step()  # Update parameters\n",
    "        scheduler.step()  # Update learning rate schedule\n",
    "        optimizer.zero_grad()  # Reset gradients\n",
    "\n",
    "        description = f\"step: {step} | epoch: {step // len(train_loader)} | loss: {loss.item():.2f}\"\n",
    "        pbar.set_description(description)\n",
    "\n",
    "        if (step + 1) % config.eval_every == 0:\n",
    "\n",
    "            model.eval()\n",
    "            \n",
    "            if eval_data is not None:\n",
    "                eval_losses =[]\n",
    "               # results, f1 = model.evaluate(eval_data, flat_ner=True, threshold=0.5, batch_size=12,\n",
    "               #                      entity_types=eval_data[\"entity_types\"])\n",
    "\n",
    "\n",
    "                eval_loader = model.create_dataloader(eval_data, batch_size=config.train_batch_size, shuffle=True)\n",
    "                iter_eval_loader = iter(eval_loader)\n",
    "                for step in pbar:\n",
    "                    try:\n",
    "                        x = next(iter_eval_loader)\n",
    "                    except StopIteration:\n",
    "                        iter_eval_loader = iter(eval_loader)\n",
    "                        x = next(iter_eval_loader)\n",
    "            \n",
    "                    for k, v in x.items():\n",
    "                        if isinstance(v, torch.Tensor):\n",
    "                            x[k] = v.to(config.device)\n",
    "            \n",
    "                    loss = model(x)\n",
    "                    eval_losses.append(loss.detach().numpy())\n",
    "                print(f\"average loss  on this run {np.mean(eval_losses)}\")\n",
    "                all_losses.append(np.mean(eval_losses))\n",
    "                #print(f\"Step={step}\\n{results}\")\n",
    "                \n",
    "            if not os.path.exists(config.save_directory):\n",
    "                os.makedirs(config.save_directory)\n",
    "                \n",
    "            model.save_pretrained(f\"{config.save_directory}/finetuned_{step}\")\n",
    "\n",
    "            model.train()\n",
    "\n",
    "    return all_losses"
   ]
  },
  {
   "cell_type": "markdown",
   "metadata": {},
   "source": [
    "### Run Fine-Tuning"
   ]
  },
  {
   "cell_type": "code",
   "execution_count": 38,
   "metadata": {},
   "outputs": [
    {
     "ename": "AttributeError",
     "evalue": "'GLiNER' object has no attribute 'create_dataloader'",
     "output_type": "error",
     "traceback": [
      "\u001b[0;31m---------------------------------------------------------------------------\u001b[0m",
      "\u001b[0;31mAttributeError\u001b[0m                            Traceback (most recent call last)",
      "Cell \u001b[0;32mIn[38], line 7\u001b[0m\n\u001b[1;32m      1\u001b[0m \u001b[38;5;66;03m# You can also define evaluation data manually here.\u001b[39;00m\n\u001b[1;32m      2\u001b[0m \u001b[38;5;66;03m# For now, evaluation only support fix entity types (but can be easily extended)\u001b[39;00m\n\u001b[1;32m      3\u001b[0m \u001b[38;5;66;03m# eval_data = {\u001b[39;00m\n\u001b[1;32m      4\u001b[0m \u001b[38;5;66;03m#     \"entity_types\": [\"Person\", 'Event Reservation'],\u001b[39;00m\n\u001b[1;32m      5\u001b[0m \u001b[38;5;66;03m#     \"samples\": data[:10]\u001b[39;00m\n\u001b[1;32m      6\u001b[0m \u001b[38;5;66;03m# }\u001b[39;00m\n\u001b[0;32m----> 7\u001b[0m run_report \u001b[38;5;241m=\u001b[39m \u001b[43mtrain\u001b[49m\u001b[43m(\u001b[49m\u001b[43mmodel\u001b[49m\u001b[43m,\u001b[49m\u001b[43m \u001b[49m\u001b[43mconfig\u001b[49m\u001b[43m,\u001b[49m\u001b[43m \u001b[49m\u001b[43mtrain_data\u001b[49m\u001b[43m,\u001b[49m\u001b[43m \u001b[49m\u001b[43meval_data\u001b[49m\u001b[43m)\u001b[49m\n",
      "Cell \u001b[0;32mIn[37], line 16\u001b[0m, in \u001b[0;36mtrain\u001b[0;34m(model, config, train_data, eval_data)\u001b[0m\n\u001b[1;32m     13\u001b[0m model\u001b[38;5;241m.\u001b[39mtrain()\n\u001b[1;32m     15\u001b[0m \u001b[38;5;66;03m# Initialize data loaders\u001b[39;00m\n\u001b[0;32m---> 16\u001b[0m train_loader \u001b[38;5;241m=\u001b[39m \u001b[43mmodel\u001b[49m\u001b[38;5;241;43m.\u001b[39;49m\u001b[43mcreate_dataloader\u001b[49m(train_data, batch_size\u001b[38;5;241m=\u001b[39mconfig\u001b[38;5;241m.\u001b[39mtrain_batch_size, shuffle\u001b[38;5;241m=\u001b[39m\u001b[38;5;28;01mTrue\u001b[39;00m)\n\u001b[1;32m     18\u001b[0m \u001b[38;5;66;03m# Optimizer\u001b[39;00m\n\u001b[1;32m     19\u001b[0m optimizer \u001b[38;5;241m=\u001b[39m model\u001b[38;5;241m.\u001b[39mget_optimizer(config\u001b[38;5;241m.\u001b[39mlr_encoder, config\u001b[38;5;241m.\u001b[39mlr_others, config\u001b[38;5;241m.\u001b[39mfreeze_token_rep)\n",
      "File \u001b[0;32m~/miniconda3/envs/zero-shot-ner-lab/lib/python3.10/site-packages/torch/nn/modules/module.py:1928\u001b[0m, in \u001b[0;36mModule.__getattr__\u001b[0;34m(self, name)\u001b[0m\n\u001b[1;32m   1926\u001b[0m     \u001b[38;5;28;01mif\u001b[39;00m name \u001b[38;5;129;01min\u001b[39;00m modules:\n\u001b[1;32m   1927\u001b[0m         \u001b[38;5;28;01mreturn\u001b[39;00m modules[name]\n\u001b[0;32m-> 1928\u001b[0m \u001b[38;5;28;01mraise\u001b[39;00m \u001b[38;5;167;01mAttributeError\u001b[39;00m(\n\u001b[1;32m   1929\u001b[0m     \u001b[38;5;124mf\u001b[39m\u001b[38;5;124m\"\u001b[39m\u001b[38;5;124m'\u001b[39m\u001b[38;5;132;01m{\u001b[39;00m\u001b[38;5;28mtype\u001b[39m(\u001b[38;5;28mself\u001b[39m)\u001b[38;5;241m.\u001b[39m\u001b[38;5;18m__name__\u001b[39m\u001b[38;5;132;01m}\u001b[39;00m\u001b[38;5;124m'\u001b[39m\u001b[38;5;124m object has no attribute \u001b[39m\u001b[38;5;124m'\u001b[39m\u001b[38;5;132;01m{\u001b[39;00mname\u001b[38;5;132;01m}\u001b[39;00m\u001b[38;5;124m'\u001b[39m\u001b[38;5;124m\"\u001b[39m\n\u001b[1;32m   1930\u001b[0m )\n",
      "\u001b[0;31mAttributeError\u001b[0m: 'GLiNER' object has no attribute 'create_dataloader'"
     ]
    }
   ],
   "source": [
    "# You can also define evaluation data manually here.\n",
    "# For now, evaluation only support fix entity types (but can be easily extended)\n",
    "# eval_data = {\n",
    "#     \"entity_types\": [\"Person\", 'Event Reservation'],\n",
    "#     \"samples\": data[:10]\n",
    "# }\n",
    "run_report = train(model, config, train_data, eval_data)"
   ]
  },
  {
   "cell_type": "code",
   "execution_count": 13,
   "metadata": {},
   "outputs": [
    {
     "data": {
      "text/plain": [
       "<Axes: >"
      ]
     },
     "execution_count": 13,
     "metadata": {},
     "output_type": "execute_result"
    },
    {
     "data": {
      "image/png": "[encoded data removed]",
      "text/plain": [
       "<Figure size 640x480 with 1 Axes>"
      ]
     },
     "metadata": {},
     "output_type": "display_data"
    }
   ],
   "source": [
    "report_df = pd.DataFrame(run_report, columns = [\"eval_losses\"])\n",
    "report_df.plot()"
   ]
  },
  {
   "cell_type": "markdown",
   "metadata": {},
   "source": [
    "### Save and Load Fine-tuned Model"
   ]
  },
  {
   "cell_type": "code",
   "execution_count": null,
   "metadata": {},
   "outputs": [],
   "source": [
    "model.save_pretrained(\"custom-model-small\")"
   ]
  },
  {
   "cell_type": "code",
   "execution_count": null,
   "metadata": {},
   "outputs": [],
   "source": [
    "loaded_model = GLiNER.from_pretrained(\"custom-model-small\", local_files_only=True)"
   ]
  },
  {
   "cell_type": "markdown",
   "metadata": {},
   "source": [
    "### Evaluate Model"
   ]
  },
  {
   "cell_type": "code",
   "execution_count": null,
   "metadata": {},
   "outputs": [],
   "source": [
    "train_data[1]"
   ]
  },
  {
   "cell_type": "code",
   "execution_count": null,
   "metadata": {},
   "outputs": [],
   "source": [
    "entity_types = sorted(set([t for item in eval_data for _, _, t in item['ner']]))\n",
    "entity_types"
   ]
  },
  {
   "cell_type": "code",
   "execution_count": null,
   "metadata": {},
   "outputs": [],
   "source": [
    "loaded_model.predict_entities(\"The Federal Reserve announced new guidelines for banking operations to enhance financial stability.\", labels=['regulator'])"
   ]
  },
  {
   "cell_type": "code",
   "execution_count": null,
   "metadata": {},
   "outputs": [],
   "source": [
    "eval_str, f1 = loaded_model.evaluate(test_data=eval_data, flat_ner=True, threshold=0.5, batch_size=1, entity_types=entity_types)\n",
    "print(eval_str)"
   ]
  },
  {
   "cell_type": "markdown",
   "metadata": {},
   "source": [
    "### Evaluation with Nervaluate"
   ]
  },
  {
   "cell_type": "code",
   "execution_count": null,
   "metadata": {},
   "outputs": [],
   "source": [
    "eval_predictions = []\n",
    "for item in eval_data:\n",
    "    text = ' '.join(item[\"tokenized_text\"])\n",
    "    predictions = loaded_model.predict_entities(text, labels=entity_types)\n",
    "    eval_predictions.append(predictions)"
   ]
  },
  {
   "cell_type": "code",
   "execution_count": null,
   "metadata": {},
   "outputs": [],
   "source": [
    "def format_data_for_nervaluate(data):\n",
    "    \"\"\"\n",
    "    Example for required format:\n",
    "    true = [\n",
    "    [{\"label\": \"PER\", \"start\": 2, \"end\": 4}],\n",
    "    [{\"label\": \"LOC\", \"start\": 1, \"end\": 2},\n",
    "     {\"label\": \"LOC\", \"start\": 3, \"end\": 4}]\n",
    "    ]\n",
    "    pred = [\n",
    "        [{\"label\": \"PER\", \"start\": 2, \"end\": 4}],\n",
    "        [{\"label\": \"LOC\", \"start\": 1, \"end\": 2},\n",
    "        {\"label\": \"LOC\", \"start\": 3, \"end\": 4}]\n",
    "    ]\n",
    "    \"\"\"\n",
    "    formatted_data = []\n",
    "    for item in data:\n",
    "        formatted_entities = []\n",
    "        for start, end, label in item['ner']:\n",
    "            formatted_entities.append({\"label\": label, \"start\": start, \"end\": end})\n",
    "        formatted_data.append(formatted_entities)\n",
    "    return formatted_data"
   ]
  },
  {
   "cell_type": "code",
   "execution_count": null,
   "metadata": {},
   "outputs": [],
   "source": [
    "formatted_eval_data = format_data_for_nervaluate(eval_data)"
   ]
  },
  {
   "cell_type": "code",
   "execution_count": null,
   "metadata": {},
   "outputs": [],
   "source": [
    "from nervaluate import Evaluator\n",
    "from pprint import pprint\n",
    "\n",
    "# true = [\n",
    "#     [{\"label\": \"PER\", \"start\": 2, \"end\": 4}],\n",
    "#     [{\"label\": \"LOC\", \"start\": 1, \"end\": 2},\n",
    "#      {\"label\": \"LOC\", \"start\": 3, \"end\": 4}]\n",
    "# ]\n",
    "\n",
    "# pred = [\n",
    "#     [{\"label\": \"PER\", \"start\": 2, \"end\": 4}],\n",
    "#     [{\"label\": \"LOC\", \"start\": 1, \"end\": 2},\n",
    "#      {\"label\": \"LOC\", \"start\": 3, \"end\": 4}]\n",
    "# ]\n",
    "\n",
    "# evaluator = Evaluator(true, pred, tags=['LOC', 'PER'])\n",
    "\n",
    "evaluator = Evaluator(formatted_eval_data, eval_predictions, tags=['tool'])\n",
    "\n",
    "# Returns overall metrics and metrics for each tag\n",
    "\n",
    "results, results_per_tag = evaluator.evaluate()\n",
    "\n",
    "pprint(results)"
   ]
  },
  {
   "cell_type": "code",
   "execution_count": null,
   "metadata": {},
   "outputs": [],
   "source": []
  }
 ],
 "metadata": {
  "kernelspec": {
   "display_name": "zero-shot-ner-lab",
   "language": "python",
   "name": "python3"
  },
  "language_info": {
   "codemirror_mode": {
    "name": "ipython",
    "version": 3
   },
   "file_extension": ".py",
   "mimetype": "text/x-python",
   "name": "python",
   "nbconvert_exporter": "python",
   "pygments_lexer": "ipython3",
   "version": "3.10.16"
  }
 },
 "nbformat": 4,
 "nbformat_minor": 4
}
